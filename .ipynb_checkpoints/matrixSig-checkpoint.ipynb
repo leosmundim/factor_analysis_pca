{
 "cells": [
  {
   "cell_type": "code",
   "execution_count": null,
   "id": "e7099f1d",
   "metadata": {},
   "outputs": [],
   "source": [
    "from scipy.stats import pearsonr\n",
    "\n",
    "#Função que cria Matriz de Significância\n",
    "def matrixSig (matriz_corr):\n",
    "    matriz_sig = [[0]*len(matriz_corr) for i in range(len(matriz_corr))]\n",
    "    for l in range(len(matriz_corr)):\n",
    "        for c in range(len(matriz_corr.columns)):\n",
    "            materia_l = matriz_corr.index[l]\n",
    "            materia_c = matriz_corr.index[c]\n",
    "\n",
    "            if materia_l == materia_c:\n",
    "                matriz_sig[l][c] = 'NA'\n",
    "\n",
    "            else:     \n",
    "                stat, p_value = pearsonr(notasFatorial[materia_l], notasFatorial[materia_c])\n",
    "                matriz_sig[l][c] = round(p_value,5)\n",
    "                \n",
    "    #Transforma o array em DataFrame\n",
    "    matriz_sig = pd.DataFrame(matriz_sig)\n",
    "\n",
    "    #Renomeia as colunas e o índice\n",
    "    matriz_sig.columns = matriz_corr.index.get_level_values(0).values\n",
    "    matriz_sig = matriz_sig.set_index(matriz_corr.index.get_level_values(0).values)\n",
    "    \n",
    "    return matriz_sig"
   ]
  }
 ],
 "metadata": {
  "kernelspec": {
   "display_name": "Python 3 (ipykernel)",
   "language": "python",
   "name": "python3"
  },
  "language_info": {
   "codemirror_mode": {
    "name": "ipython",
    "version": 3
   },
   "file_extension": ".py",
   "mimetype": "text/x-python",
   "name": "python",
   "nbconvert_exporter": "python",
   "pygments_lexer": "ipython3",
   "version": "3.9.13"
  }
 },
 "nbformat": 4,
 "nbformat_minor": 5
}
